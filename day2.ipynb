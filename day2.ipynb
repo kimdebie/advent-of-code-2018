{
 "cells": [
  {
   "cell_type": "code",
   "execution_count": 19,
   "metadata": {},
   "outputs": [],
   "source": [
    "import pandas as pd\n",
    "from collections import Counter\n",
    "import itertools"
   ]
  },
  {
   "cell_type": "code",
   "execution_count": 17,
   "metadata": {},
   "outputs": [
    {
     "data": {
      "text/plain": [
       "7134"
      ]
     },
     "execution_count": 17,
     "metadata": {},
     "output_type": "execute_result"
    }
   ],
   "source": [
    "# part 1: how many boxes have letters that occur exactly two or three times?\n",
    "\n",
    "df = pd.read_csv('day2_input.txt', header=None)\n",
    "\n",
    "\n",
    "def check_count(name, count):\n",
    "    \n",
    "    counts = Counter(name)\n",
    "    \n",
    "    if count in counts.values():\n",
    "        return 1\n",
    "    \n",
    "    return 0\n",
    "\n",
    "two_counts = 0\n",
    "three_counts = 0\n",
    "\n",
    "for box in df[0]:\n",
    "    two_counts += check_count(box, 2)\n",
    "    three_counts += check_count(box, 3)\n",
    "    \n",
    "checksum = two_counts * three_counts\n",
    "checksum"
   ]
  },
  {
   "cell_type": "code",
   "execution_count": 32,
   "metadata": {},
   "outputs": [
    {
     "name": "stdout",
     "output_type": "stream",
     "text": [
      "kbqwtcvzhmhpoelrnaxydifyb\n"
     ]
    }
   ],
   "source": [
    "# part 2: which boxes have identical names, except for one position?\n",
    "\n",
    "def hamming_distance(box1, box2):\n",
    "    return sum(b1 != b2 for b1, b2 in zip(box1, box2))\n",
    "\n",
    "def overlap(box1, box2): \n",
    "    ov = ''\n",
    "    \n",
    "    for b1, b2 in zip(box1, box2):\n",
    "        if b1==b2:\n",
    "            ov += b1 \n",
    "    return ov\n",
    "    \n",
    "pairs = list(itertools.combinations(df[0], 2))\n",
    "\n",
    "for box1, box2 in pairs:\n",
    "    if hamming_distance(box1, box2) == 1:\n",
    "        ov = overlap(box1, box2)\n",
    "        print(ov)\n",
    "        "
   ]
  }
 ],
 "metadata": {
  "kernelspec": {
   "display_name": "Python 3",
   "language": "python",
   "name": "python3"
  },
  "language_info": {
   "codemirror_mode": {
    "name": "ipython",
    "version": 3
   },
   "file_extension": ".py",
   "mimetype": "text/x-python",
   "name": "python",
   "nbconvert_exporter": "python",
   "pygments_lexer": "ipython3",
   "version": "3.7.4"
  }
 },
 "nbformat": 4,
 "nbformat_minor": 2
}
