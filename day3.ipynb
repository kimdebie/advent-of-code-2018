{
 "cells": [
  {
   "cell_type": "code",
   "execution_count": 21,
   "metadata": {},
   "outputs": [],
   "source": [
    "import pandas as pd\n",
    "import numpy as np"
   ]
  },
  {
   "cell_type": "code",
   "execution_count": 69,
   "metadata": {},
   "outputs": [],
   "source": [
    "# data processing\n",
    "\n",
    "df = pd.read_csv('day3_input.txt', header=None, delimiter=\" \", names=[\"id\", \"@\", \"location\", \"size\"])\n",
    "\n",
    "locs = df[\"location\"].str.split(\",\", n=1, expand=True)\n",
    "df[\"loc_x\"] = locs[0]\n",
    "df[\"loc_y\"] = locs[1].map(lambda x: x.rstrip(\":\"))\n",
    "\n",
    "\n",
    "sizes = df[\"size\"].str.split(\"x\", n=1, expand=True)\n",
    "df[\"size_x\"] = sizes[0]\n",
    "df[\"size_y\"] = sizes[1]\n",
    "\n",
    "df.drop([\"id\", \"@\", \"location\", \"size\"],axis=1, inplace=True)\n",
    "df = df.apply(pd.to_numeric)\n",
    "\n",
    "max_x = max(df[\"loc_x\"] + df[\"size_x\"])\n",
    "max_y = max(df[\"loc_y\"] + df[\"size_y\"])"
   ]
  },
  {
   "cell_type": "code",
   "execution_count": 70,
   "metadata": {},
   "outputs": [
    {
     "data": {
      "text/plain": [
       "109143"
      ]
     },
     "execution_count": 70,
     "metadata": {},
     "output_type": "execute_result"
    }
   ],
   "source": [
    "# part 1: how many points overlap between two or more claims?\n",
    "fabric = np.zeros((max_x, max_y))\n",
    "\n",
    "for i in range(len(df)):\n",
    "    claim = df.iloc[i]\n",
    "    fabric[claim.loc_x:claim.loc_x+claim.size_x, claim.loc_y:claim.loc_y+claim.size_y] += 1\n",
    "    \n",
    "np.sum(fabric >= 2)"
   ]
  },
  {
   "cell_type": "code",
   "execution_count": 72,
   "metadata": {},
   "outputs": [
    {
     "name": "stdout",
     "output_type": "stream",
     "text": [
      "506\n"
     ]
    }
   ],
   "source": [
    "# part 2: claim that does not overlap\n",
    "for i in range(len(df)):\n",
    "    claim = df.iloc[i]\n",
    "    \n",
    "    # if the proposed cut is now only zeroes, we found the right claim\n",
    "    claimed_fabric = np.ones_like(fabric[claim.loc_x:claim.loc_x+claim.size_x, claim.loc_y:claim.loc_y+claim.size_y])\n",
    "    if np.equal(fabric[claim.loc_x:claim.loc_x+claim.size_x, claim.loc_y:claim.loc_y+claim.size_y], \n",
    "             claimed_fabric).all():\n",
    "        print(i+1)"
   ]
  }
 ],
 "metadata": {
  "kernelspec": {
   "display_name": "Python 3",
   "language": "python",
   "name": "python3"
  },
  "language_info": {
   "codemirror_mode": {
    "name": "ipython",
    "version": 3
   },
   "file_extension": ".py",
   "mimetype": "text/x-python",
   "name": "python",
   "nbconvert_exporter": "python",
   "pygments_lexer": "ipython3",
   "version": "3.7.4"
  }
 },
 "nbformat": 4,
 "nbformat_minor": 2
}
