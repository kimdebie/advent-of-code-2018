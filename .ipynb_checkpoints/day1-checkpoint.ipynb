{
 "cells": [
  {
   "cell_type": "code",
   "execution_count": 4,
   "metadata": {},
   "outputs": [],
   "source": [
    "import pandas as pd"
   ]
  },
  {
   "cell_type": "code",
   "execution_count": 20,
   "metadata": {},
   "outputs": [
    {
     "data": {
      "text/plain": [
       "442"
      ]
     },
     "execution_count": 20,
     "metadata": {},
     "output_type": "execute_result"
    }
   ],
   "source": [
    "# part 1: which frequency is reached in the end?\n",
    "df = pd.read_csv('day1_input.txt', header=None)\n",
    "total = df[0].sum()\n",
    "total"
   ]
  },
  {
   "cell_type": "code",
   "execution_count": 25,
   "metadata": {},
   "outputs": [
    {
     "name": "stdout",
     "output_type": "stream",
     "text": [
      "59908\n"
     ]
    }
   ],
   "source": [
    "# part 2: which frequency is reached twice first?\n",
    "\n",
    "freq_list = list(df[0])\n",
    "freq = 0\n",
    "ix = 0\n",
    "\n",
    "freq_reached = []\n",
    "dupl_found = False\n",
    "\n",
    "while not dupl_found:\n",
    "\n",
    "    freq_reached.append(freq)\n",
    "    freq += freq_list[ix % len(freq_list)]\n",
    "    ix += 1\n",
    "    \n",
    "    if freq in freq_reached:\n",
    "        print(freq)\n",
    "        dupl_found = True"
   ]
  }
 ],
 "metadata": {
  "kernelspec": {
   "display_name": "Python 3",
   "language": "python",
   "name": "python3"
  },
  "language_info": {
   "codemirror_mode": {
    "name": "ipython",
    "version": 3
   },
   "file_extension": ".py",
   "mimetype": "text/x-python",
   "name": "python",
   "nbconvert_exporter": "python",
   "pygments_lexer": "ipython3",
   "version": "3.7.4"
  }
 },
 "nbformat": 4,
 "nbformat_minor": 2
}
